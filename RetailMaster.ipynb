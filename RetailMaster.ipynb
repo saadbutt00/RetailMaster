{
  "nbformat": 4,
  "nbformat_minor": 0,
  "metadata": {
    "colab": {
      "provenance": []
    },
    "kernelspec": {
      "name": "python3",
      "display_name": "Python 3"
    },
    "language_info": {
      "name": "python"
    }
  },
  "cells": [
    {
      "cell_type": "code",
      "source": [
        "import pandas as pd\n",
        "import numpy as np\n",
        "import matplotlib.pyplot as plt\n",
        "import seaborn as sns\n",
        "from sklearn.preprocessing import LabelEncoder, StandardScaler\n",
        "from sklearn.model_selection import train_test_split, cross_val_score, GridSearchCV, StratifiedKFold\n",
        "from sklearn.metrics import accuracy_score, precision_score, recall_score, f1_score, roc_auc_score, confusion_matrix, classification_report, precision_recall_curve\n",
        "from sklearn.ensemble import RandomForestClassifier\n",
        "from sklearn.ensemble import GradientBoostingClassifier\n",
        "from sklearn.svm import SVC\n",
        "import xgboost as xgb\n",
        "import warnings\n",
        "warnings.filterwarnings('ignore')"
      ],
      "metadata": {
        "id": "TnxxayrMzQUG"
      },
      "execution_count": null,
      "outputs": []
    },
    {
      "cell_type": "code",
      "source": [
        "df = pd.read_csv('/content/retail_master.csv')"
      ],
      "metadata": {
        "id": "_IgPgbdhzR65"
      },
      "execution_count": null,
      "outputs": []
    },
    {
      "cell_type": "code",
      "source": [
        "# Fixing Dataset\n",
        "df.dropna(axis=0, inplace=True)\n",
        "df.drop('Promotion', axis=1, inplace=True)\n",
        "df.drop('Churn_Prob', axis=1, inplace=True)\n",
        "df.drop('Recency_Norm', axis=1, inplace=True)\n",
        "df.drop('Frequency_Norm', axis=1, inplace=True)\n",
        "df.drop('Monetary_Norm', axis=1, inplace=True)\n",
        "df['Product_Revenue'] = df['Product_Revenue']*6"
      ],
      "metadata": {
        "id": "1dYJzimhZrSS"
      },
      "execution_count": null,
      "outputs": []
    },
    {
      "cell_type": "code",
      "source": [
        "df.columns"
      ],
      "metadata": {
        "colab": {
          "base_uri": "https://localhost:8080/"
        },
        "id": "jTWPCCWaPcZC",
        "outputId": "fd9053bf-0017-40f2-9296-cae8c71d2603"
      },
      "execution_count": null,
      "outputs": [
        {
          "output_type": "execute_result",
          "data": {
            "text/plain": [
              "Index(['Transaction_ID', 'Date', 'Customer_Name', 'Product', 'Total_Items',\n",
              "       'Total_Cost', 'Discount_Applied', 'Basket_Size', 'Avg_Item_Price',\n",
              "       'DayOfWeek', 'Month', 'Year', 'Hour', 'Weekend', 'Recency', 'Frequency',\n",
              "       'Monetary', 'Purchase_Count', 'Product_Revenue', 'High_Spend_Flag',\n",
              "       'Unusual_Basket_Flag', 'City', 'Store_Type', 'Customer_Category',\n",
              "       'Season', 'Payment_Method', 'Churn'],\n",
              "      dtype='object')"
            ]
          },
          "metadata": {},
          "execution_count": 5
        }
      ]
    },
    {
      "cell_type": "markdown",
      "source": [
        "# **Random Forest Classifier (Anomaly Detection)**"
      ],
      "metadata": {
        "id": "5HkrPVcR6S4v"
      }
    },
    {
      "cell_type": "code",
      "source": [
        "# High spend flag = top 5% of transactions by Total_Cost\n",
        "spend_threshold = df[\"Total_Cost\"].quantile(0.95)\n",
        "df[\"High_Spend_Flag\"] = (df[\"Total_Cost\"] >= spend_threshold).astype(int)"
      ],
      "metadata": {
        "id": "CugYxebl8jPc"
      },
      "execution_count": null,
      "outputs": []
    },
    {
      "cell_type": "code",
      "source": [
        "le = LabelEncoder()\n",
        "df[\"Payment_Method\"] = le.fit_transform(df[\"Payment_Method\"])\n",
        "df[\"Discount_Applied\"] = le.fit_transform(df[\"Discount_Applied\"])\n",
        "df[\"Customer_Category\"] = le.fit_transform(df[\"Customer_Category\"])\n",
        "\n",
        "df[\"Basket_Value\"] = df[\"Basket_Size\"] * df[\"Avg_Item_Price\"]\n",
        "\n",
        "X_rf = df[[\"Basket_Size\", \"Avg_Item_Price\", \"Basket_Value\", \"DayOfWeek\", \"Hour\"]]\n",
        "y_rf = df[\"High_Spend_Flag\"]\n",
        "\n",
        "X_train, X_test, y_train, y_test = train_test_split(X_rf, y_rf, test_size=0.3)\n",
        "\n",
        "rfc = RandomForestClassifier(class_weight=\"balanced\")\n",
        "rfc.fit(X_train, y_train)\n",
        "\n",
        "cv_scores = cross_val_score(rfc, X_train, y_train, cv=5, scoring=\"accuracy\")\n",
        "\n",
        "y_pred = rfc.predict(X_test)\n",
        "y_prob = rfc.predict_proba(X_test)[:, 1]\n",
        "y_pred_tuned = (y_prob >= 0.3).astype(int)\n",
        "\n",
        "print(\"\\n🌲 Random Forest Classifier - Anomaly Detection (High_Spend_Flag)\")\n",
        "print(\"Cross-Val Accuracy: %.2f%% ± %.2f%%\" % (cv_scores.mean()*100, cv_scores.std()*100))\n",
        "print(\"Test Accuracy: %.2f%%\" % (accuracy_score(y_test, y_pred_tuned)*100))\n",
        "print(\"Precision: %.4f\" % precision_score(y_test, y_pred_tuned, zero_division=0))\n",
        "print(\"Recall: %.4f\" % recall_score(y_test, y_pred_tuned, zero_division=0))\n",
        "print(\"F1: %.4f\" % f1_score(y_test, y_pred_tuned, zero_division=0))\n",
        "print(\"ROC-AUC: %.4f\" % roc_auc_score(y_test, y_prob))\n",
        "print(\"\\nClassification Report:\\n\", classification_report(y_test, y_pred, zero_division=0))"
      ],
      "metadata": {
        "colab": {
          "base_uri": "https://localhost:8080/"
        },
        "id": "QeexG0Jv2Xf0",
        "outputId": "efaf8c82-2e52-4c10-fcdb-b707955d7933"
      },
      "execution_count": null,
      "outputs": [
        {
          "output_type": "stream",
          "name": "stdout",
          "text": [
            "\n",
            "🌲 Random Forest Classifier - Anomaly Detection (High_Spend_Flag)\n",
            "Cross-Val Accuracy: 96.10% ± 0.03%\n",
            "Test Accuracy: 95.22%\n",
            "Precision: 0.5240\n",
            "Recall: 0.6318\n",
            "F1: 0.5728\n",
            "ROC-AUC: 0.9660\n",
            "\n",
            "Classification Report:\n",
            "               precision    recall  f1-score   support\n",
            "\n",
            "           0       0.97      0.99      0.98    142115\n",
            "           1       0.67      0.48      0.56      7599\n",
            "\n",
            "    accuracy                           0.96    149714\n",
            "   macro avg       0.82      0.74      0.77    149714\n",
            "weighted avg       0.96      0.96      0.96    149714\n",
            "\n"
          ]
        }
      ]
    },
    {
      "cell_type": "markdown",
      "source": [
        "# **Gradient Boosting - XGB (Churn Prediction)**"
      ],
      "metadata": {
        "id": "c9-UNqiiDwTs"
      }
    },
    {
      "cell_type": "code",
      "source": [
        "df_xgb = df[['Recency', 'Frequency', 'Monetary', 'Customer_Category',\n",
        "             'City', 'Store_Type', 'Payment_Method', 'Churn']]\n",
        "\n",
        "le = LabelEncoder()\n",
        "df_xgb['Payment_Method'] = le.fit_transform(df_xgb['Payment_Method'])\n",
        "df_xgb['Customer_Category'] = le.fit_transform(df_xgb['Customer_Category'])\n",
        "df_xgb['City'] = le.fit_transform(df_xgb['City'])\n",
        "df_xgb['Store_Type'] = le.fit_transform(df_xgb['Store_Type'])\n",
        "\n",
        "df_xgb['Recency'] = df_xgb['Recency'].clip(50, 700)\n",
        "df_xgb['Frequency'] = df_xgb['Frequency'].clip(0, 20)\n",
        "df_xgb['Monetary'] = df_xgb['Monetary'].clip(50, 550)\n",
        "\n",
        "X_xgb = df_xgb[['Recency', 'Frequency', 'Monetary', 'Customer_Category',\n",
        "                'City', 'Store_Type', 'Payment_Method']]\n",
        "y_xgb = df_xgb['Churn']\n",
        "\n",
        "X_train, X_test, y_train, y_test = train_test_split(X_xgb, y_xgb, test_size=0.3)\n",
        "\n",
        "neg, pos = y_train.value_counts()\n",
        "scale = neg / pos\n",
        "\n",
        "XGB = xgb.XGBClassifier(\n",
        "    objective='binary:logistic',\n",
        "    n_estimators=1500,\n",
        "    learning_rate=0.1,\n",
        "    max_depth=10,\n",
        "    scale_pos_weight=scale,\n",
        "    subsample=0.9,\n",
        "    colsample_bytree=0.9,\n",
        "    eval_metric='logloss'\n",
        ")\n",
        "\n",
        "cv_scores = cross_val_score(XGB, X_train, y_train, cv=5, scoring=\"accuracy\")\n",
        "\n",
        "XGB.fit(X_train, y_train)\n",
        "\n",
        "y_prob = XGB.predict_proba(X_test)[:, 1]\n",
        "y_pred_default = (y_prob >= 0.5).astype(int)\n",
        "\n",
        "cv_scores = cross_val_score(XGB, X_train, y_train, cv=5, scoring=\"accuracy\")\n",
        "\n",
        "print(\"\\n🎡 XGBoost Classifier - Churn Prediction\")\n",
        "print(\"Cross-Val Accuracy: %.2f%% ± %.2f%%\" % (cv_scores.mean()*100, cv_scores.std()*100))\n",
        "print(\"Test Accuracy: %.2f%%\" % (accuracy_score(y_test, y_pred_default)*100))\n",
        "print(\"Precision: %.4f\" % precision_score(y_test, y_pred_default, zero_division=0))\n",
        "print(\"Recall: %.4f\" % recall_score(y_test, y_pred_default, zero_division=0))\n",
        "print(\"F1: %.4f\" % f1_score(y_test, y_pred_default, zero_division=0))\n",
        "print(\"\\nROC-AUC: %.4f\" % roc_auc_score(y_test, y_prob))\n",
        "print(\"\\nClassification Report:\\n\", classification_report(y_test, y_pred_default, zero_division=0))"
      ],
      "metadata": {
        "id": "w_knZG5dD6Am",
        "colab": {
          "base_uri": "https://localhost:8080/"
        },
        "outputId": "7a929bdf-8e84-49ea-89ee-324ecd95bfd5"
      },
      "execution_count": null,
      "outputs": [
        {
          "output_type": "stream",
          "name": "stdout",
          "text": [
            "\n",
            "🎡 XGBoost Classifier - Churn Prediction\n",
            "Cross-Val Accuracy: 81.46% ± 0.17%\n",
            "Test Accuracy: 82.56%\n",
            "Precision: 0.5431\n",
            "Recall: 0.7929\n",
            "F1: 0.6446\n",
            "\n",
            "ROC-AUC: 0.8844\n",
            "\n",
            "Classification Report:\n",
            "               precision    recall  f1-score   support\n",
            "\n",
            "           0       0.94      0.83      0.88    119839\n",
            "           1       0.54      0.79      0.64     29875\n",
            "\n",
            "    accuracy                           0.83    149714\n",
            "   macro avg       0.74      0.81      0.76    149714\n",
            "weighted avg       0.86      0.83      0.84    149714\n",
            "\n"
          ]
        }
      ]
    }
  ]
}